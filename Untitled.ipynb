{
 "cells": [
  {
   "cell_type": "code",
   "execution_count": 1,
   "id": "025a79b2",
   "metadata": {},
   "outputs": [
    {
     "name": "stdout",
     "output_type": "stream",
     "text": [
      "Collecting scikit-imageNote: you may need to restart the kernel to use updated packages.\n",
      "\n",
      "  Using cached scikit_image-0.20.0-cp39-cp39-win_amd64.whl (23.9 MB)\n",
      "Requirement already satisfied: tifffile>=2019.7.26 in c:\\users\\compact\\appdata\\local\\programs\\python\\python39\\lib\\site-packages (from scikit-image) (2023.3.21)\n",
      "Requirement already satisfied: numpy>=1.21.1 in c:\\users\\compact\\appdata\\local\\programs\\python\\python39\\lib\\site-packages (from scikit-image) (1.23.5)\n",
      "Requirement already satisfied: scipy<1.9.2,>=1.8 in c:\\users\\compact\\appdata\\local\\programs\\python\\python39\\lib\\site-packages (from scikit-image) (1.9.1)\n",
      "Collecting networkx>=2.8\n",
      "  Using cached networkx-3.0-py3-none-any.whl (2.0 MB)\n",
      "Collecting PyWavelets>=1.1.1\n",
      "  Using cached PyWavelets-1.4.1-cp39-cp39-win_amd64.whl (4.2 MB)\n",
      "Requirement already satisfied: packaging>=20.0 in c:\\users\\compact\\appdata\\local\\programs\\python\\python39\\lib\\site-packages (from scikit-image) (23.0)\n",
      "Collecting imageio>=2.4.1\n",
      "  Using cached imageio-2.27.0-py3-none-any.whl (3.4 MB)\n",
      "Requirement already satisfied: pillow>=9.0.1 in c:\\users\\compact\\appdata\\local\\programs\\python\\python39\\lib\\site-packages (from scikit-image) (9.4.0)\n",
      "Collecting lazy_loader>=0.1\n",
      "  Using cached lazy_loader-0.2-py3-none-any.whl (8.6 kB)\n",
      "Installing collected packages: PyWavelets, networkx, lazy-loader, imageio, scikit-image\n",
      "Successfully installed PyWavelets-1.4.1 imageio-2.27.0 lazy-loader-0.2 networkx-3.0 scikit-image-0.20.0\n"
     ]
    },
    {
     "name": "stderr",
     "output_type": "stream",
     "text": [
      "WARNING: You are using pip version 21.2.4; however, version 23.0.1 is available.\n",
      "You should consider upgrading via the 'C:\\Users\\Compact\\AppData\\Local\\Programs\\Python\\Python39\\python.exe -m pip install --upgrade pip' command.\n"
     ]
    }
   ],
   "source": [
    "pip install scikit-image\n"
   ]
  },
  {
   "cell_type": "code",
   "execution_count": 12,
   "id": "e6db9181",
   "metadata": {},
   "outputs": [],
   "source": [
    "from sklearn.datasets import fetch_lfw_people\n",
    "from sklearn.decomposition import PCA\n",
    "from sklearn.discriminant_analysis import LinearDiscriminantAnalysis\n",
    "import numpy as np\n",
    "import matplotlib.pyplot as plt\n",
    "from sklearn.model_selection import train_test_split\n",
    "from sklearn.linear_model import LogisticRegression\n",
    "from sklearn.model_selection import GridSearchCV\n",
    "from sklearn.metrics import classification_report, confusion_matrix, accuracy_score\n",
    "from time import time\n",
    "from sklearn.pipeline import Pipeline\n",
    "from sklearn.model_selection import cross_val_score\n",
    "\n",
    "%matplotlib inline\n",
    "\n"
   ]
  },
  {
   "cell_type": "code",
   "execution_count": 21,
   "id": "2ac42cf0",
   "metadata": {},
   "outputs": [
    {
     "name": "stdout",
     "output_type": "stream",
     "text": [
      "Total dataset size:\n",
      "n_samples: 1288\n",
      "n_features: 1850\n",
      "n_classes: 7\n"
     ]
    }
   ],
   "source": [
    "lfw_people = fetch_lfw_people(min_faces_per_person=70, resize=0.4)\n",
    "\n",
    "n_samples, h, w = lfw_people.images.shape\n",
    "\n",
    "\n",
    "X = lfw_people.data\n",
    "n_features = X.shape[1]\n",
    "\n",
    "y = lfw_people.target\n",
    "target_names = lfw_people.target_names\n",
    "n_classes = target_names.shape[0]\n",
    "\n",
    "print(\"Total dataset size:\")\n",
    "print(\"n_samples: %d\" % n_samples)\n",
    "print(\"n_features: %d\" % n_features)\n",
    "print(\"n_classes: %d\" % n_classes)"
   ]
  },
  {
   "cell_type": "code",
   "execution_count": 47,
   "id": "f4a656a2",
   "metadata": {
    "scrolled": true
   },
   "outputs": [
    {
     "data": {
      "text/plain": [
       "'Hugo Chavez'"
      ]
     },
     "execution_count": 47,
     "metadata": {},
     "output_type": "execute_result"
    },
    {
     "data": {
      "image/png": "[encoded data removed]",
      "text/plain": [
       "<Figure size 640x480 with 1 Axes>"
      ]
     },
     "metadata": {},
     "output_type": "display_data"
    }
   ],
   "source": [
    "plt.imshow(X[0].reshape((h, w)), cmap=plt.cm.gray)\n",
    "lfw_people.target_names[y[0]]\n",
    "\n",
    "\n"
   ]
  },
  {
   "cell_type": "code",
   "execution_count": 23,
   "id": "4f35e38d",
   "metadata": {},
   "outputs": [
    {
     "data": {
      "text/plain": [
       "'Hugo Chavez'"
      ]
     },
     "execution_count": 23,
     "metadata": {},
     "output_type": "execute_result"
    },
    {
     "data": {
      "image/png": "[encoded data removed]",
      "text/plain": [
       "<Figure size 640x480 with 1 Axes>"
      ]
     },
     "metadata": {},
     "output_type": "display_data"
    }
   ],
   "source": [
    "X_train, X_test, y_train, y_test = train_test_split(X, y, test_size=0.25, random_state=1)\n"
   ]
  },
  {
   "cell_type": "code",
   "execution_count": 51,
   "id": "197fff7d",
   "metadata": {},
   "outputs": [],
   "source": [
    "import itertools\n",
    "def plot_confusion_matrix(cm, classes,\n",
    "                          normalize=False,\n",
    "                          title='Confusion matrix',\n",
    "                          cmap=plt.cm.Blues):\n",
    "    \n",
    "    plt.imshow(cm, interpolation='nearest', cmap=cmap)\n",
    "    plt.title(title)\n",
    "    plt.colorbar()\n",
    "    tick_marks = np.arange(len(classes))\n",
    "    plt.xticks(tick_marks, classes, rotation=45)\n",
    "    plt.yticks(tick_marks, classes)\n",
    "\n",
    "    thresh = cm.max() / 2.\n",
    "    for i, j in itertools.product(range(cm.shape[0]), range(cm.shape[1])):\n",
    "        plt.text(j, i, cm[i, j],\n",
    "                 horizontalalignment=\"center\",\n",
    "                 color=\"white\" if cm[i, j] > thresh else \"black\")\n",
    "    plt.ylabel('True label')\n",
    "    plt.xlabel('Predicted label')"
   ]
  },
  {
   "cell_type": "code",
   "execution_count": 52,
   "id": "0e3d067a",
   "metadata": {},
   "outputs": [
    {
     "ename": "SyntaxError",
     "evalue": "invalid syntax (1033033691.py, line 15)",
     "output_type": "error",
     "traceback": [
      "\u001b[1;36m  Cell \u001b[1;32mIn[52], line 15\u001b[1;36m\u001b[0m\n\u001b[1;33m    print plot_confusion_matrix(confusion_matrix(y_test, y_pred, labels=range(n_classes)), target_names)\u001b[0m\n\u001b[1;37m          ^\u001b[0m\n\u001b[1;31mSyntaxError\u001b[0m\u001b[1;31m:\u001b[0m invalid syntax\n"
     ]
    }
   ],
   "source": [
    "t0 = time()\n",
    "\n",
    "face_pipeline = Pipeline(steps=[('PCA', PCA(n_components=200)), ('logistic', logreg)])\n",
    "\n",
    "pipe_param_grid = {'logistic__C': [1e-2, 1e-1,1e0,1e1, 1e2]}\n",
    "clf = GridSearchCV(face_pipeline, pipe_param_grid)\n",
    "clf = clf.fit(X_train, y_train)\n",
    "best_clf = clf.best_estimator_\n",
    "\n",
    "# Predicting people's names on the test set\n",
    "y_pred = best_clf.predict(X_test)\n",
    "\n",
    "print (\"Accuracy score for best estimator\",accuracy_score(y_pred, y_test))\n",
    "print(classification_report(y_test, y_pred, target_names=target_names))\n",
    "print plot_confusion_matrix(confusion_matrix(y_test, y_pred, labels=range(n_classes)), target_names)\n",
    "print (\"seconds to grid search and predict the test set\",round((time() - t0), 1))\n"
   ]
  },
  {
   "cell_type": "code",
   "execution_count": null,
   "id": "e6e5db03",
   "metadata": {},
   "outputs": [],
   "source": []
  }
 ],
 "metadata": {
  "kernelspec": {
   "display_name": "Python 3 (ipykernel)",
   "language": "python",
   "name": "python3"
  },
  "language_info": {
   "codemirror_mode": {
    "name": "ipython",
    "version": 3
   },
   "file_extension": ".py",
   "mimetype": "text/x-python",
   "name": "python",
   "nbconvert_exporter": "python",
   "pygments_lexer": "ipython3",
   "version": "3.9.8"
  }
 },
 "nbformat": 4,
 "nbformat_minor": 5
}
